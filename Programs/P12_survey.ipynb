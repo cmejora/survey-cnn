{
 "cells": [
  {
   "cell_type": "markdown",
   "id": "e2aaf23c-912d-422e-9bd2-adf67872486a",
   "metadata": {},
   "source": [
    "# P12_survey"
   ]
  },
  {
   "cell_type": "markdown",
   "id": "9f0e71b1-51e4-49ea-b50c-d4ef9c30a4da",
   "metadata": {},
   "source": [
    "## Program to apply Left-tailed Student's t-test for the mean of variable kr (IT Industry 4.0 and 5.0 Knowledge)"
   ]
  },
  {
   "attachments": {},
   "cell_type": "markdown",
   "id": "f2988657-0e80-49b1-8b09-1b6378a39fe4",
   "metadata": {},
   "source": [
    "One- tailed t-test for a single sample mean to the variable \"IT Knowledge Industry 4.0 and 5.0\"\n",
    "* Variable (k) Industry 4.0 and 5.0 Knowledge\n",
    "* The confidence interval is 95%, with a significance level of $ \\alpha= 0.05 $\n",
    "* Ho: media >= 4 Students are expected to consider the knowledge acquired during their studies on the IT adopted by Industry 4.0 and 5.0 as sufficient or totally sufficient.\n",
    "* Ha: media < 4\n",
    "* The test statistics: $ t = \\sqrt{n} \\frac{\\bar{x} - \\mu}{s} $"
   ]
  },
  {
   "cell_type": "code",
   "execution_count": 1,
   "id": "4d29cd16-6664-47ef-91f5-3e993b0f4a04",
   "metadata": {},
   "outputs": [
    {
     "name": "stdout",
     "output_type": "stream",
     "text": [
      "The value of z for a 95% confidence level is: 1.959964\n",
      "The value of the mean is: 3.160714 \n",
      "The value of the standard deviation is: 0.800378\n",
      "The value of t is: -11.097463\n",
      "\n",
      "Given that: -11.097463 < 1.959964\n",
      "\n",
      "There is sufficient evidence to reject the null hypothesis Ho, meaning that students perceive that:\n",
      "the level of knowledge acquired during their master's studies regarding the IT skills needed to\n",
      "integrate into Industry 4.0 and 5.0 is insufficient.\n",
      "Therefore, the alternative hypothesis Ha is accepted.\n"
     ]
    }
   ],
   "source": [
    "import numpy as np\n",
    "import pandas as pd\n",
    "from scipy import stats\n",
    "from scipy.stats import norm\n",
    "import statistics\n",
    "import math\n",
    "from pathlib import Path\n",
    "\n",
    "# Data\n",
    "ruta_entrada = Path('..')/'Datasets'/'KI45.csv'\n",
    "data = pd.read_csv(ruta_entrada,delimiter=\",\",encoding = \"ISO-8859-1\")\n",
    "df = pd.DataFrame(data)\n",
    "\n",
    "# 95% confidence level\n",
    "nivel_confianza = 0.95\n",
    "\n",
    "# Get the value of z (critical value)\n",
    "# For a 95% confidence level, the area in the left tail is (1 - confidence_level) / 2\n",
    "z = norm.ppf(1 - (1 - nivel_confianza) / 2)\n",
    "print(f\"The value of z for a 95% confidence level is: {z:.6f}\")\n",
    "\n",
    "# Get the mean and standard deviation from the sample.\n",
    "datos = df['kr']\n",
    "media = datos.mean()\n",
    "desviacion_estandar = datos.std()\n",
    "print(f\"The value of the mean is: {media:2.6f} \\nThe value of the standard deviation is: {desviacion_estandar:2.6f}\")\n",
    "\n",
    "# Get the value of t\n",
    "mu = 4 # value of the mean to test\n",
    "n = len(datos)\n",
    "t = math.sqrt(n) * (media - mu)/desviacion_estandar\n",
    "print(f\"The value of t is: {t:2.6f}\\n\")\n",
    "\n",
    "# t test\n",
    "if t < z:\n",
    "    print(f\"Given that: {t:2.6f} < {z:2.6f}\\n\\n\"\n",
    "             + \"There is sufficient evidence to reject the null hypothesis Ho, meaning that students perceive that:\\n\"\n",
    "             + \"the level of knowledge acquired during their master's studies regarding the IT skills needed to\\n\"\n",
    "             + \"integrate into Industry 4.0 and 5.0 is insufficient.\\n\"\n",
    "             + \"Therefore, the alternative hypothesis Ha is accepted.\")\n",
    "else:\n",
    "    print(f\"Given that: {t:2.6f} >= {z:2.6f}\\n\\n\"\n",
    "             + \"There is sufficient evidence to accept the null hypothesis Ho, meaning that students perceive that:\\n\"\n",
    "             + \"the level of knowledge acquired during their master's studies regarding the IT skills needed to\\n\"\n",
    "             + \"integrate into Industry 4.0 and 5.0 is sufficient.\")"
   ]
  },
  {
   "cell_type": "code",
   "execution_count": null,
   "id": "c962287e-1d61-4907-ad99-e1dc47679fed",
   "metadata": {},
   "outputs": [],
   "source": []
  }
 ],
 "metadata": {
  "kernelspec": {
   "display_name": "Python 3 (ipykernel)",
   "language": "python",
   "name": "python3"
  },
  "language_info": {
   "codemirror_mode": {
    "name": "ipython",
    "version": 3
   },
   "file_extension": ".py",
   "mimetype": "text/x-python",
   "name": "python",
   "nbconvert_exporter": "python",
   "pygments_lexer": "ipython3",
   "version": "3.12.4"
  }
 },
 "nbformat": 4,
 "nbformat_minor": 5
}
